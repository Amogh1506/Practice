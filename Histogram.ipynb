{
 "cells": [
  {
   "cell_type": "code",
   "execution_count": 20,
   "id": "0d88726d-01fb-4d65-9b58-fab6bc48229b",
   "metadata": {},
   "outputs": [
    {
     "name": "stderr",
     "output_type": "stream",
     "text": [
      "ibmqfactory.load_account:WARNING:2021-12-30 13:57:52,161: Credentials are already in use. The existing account in the session will be replaced.\n"
     ]
    }
   ],
   "source": [
    "import numpy as np\n",
    "\n",
    "# Importing standard Qiskit libraries\n",
    "from qiskit import QuantumCircuit, transpile, Aer, IBMQ,assemble\n",
    "from qiskit.tools.jupyter import *\n",
    "from qiskit.visualization import *\n",
    "from ibm_quantum_widgets import *\n",
    "from qiskit.providers.aer import QasmSimulator\n",
    "\n",
    "# Loading your IBM Quantum account(s)\n",
    "provider = IBMQ.load_account()"
   ]
  },
  {
   "cell_type": "code",
   "execution_count": 39,
   "id": "78b5fbc9-7081-488b-bef4-b90f2bd264fc",
   "metadata": {},
   "outputs": [
    {
     "data": {
      "image/png": "[encoded data removed]",
      "text/plain": [
       "<Figure size 267.052x144.48 with 1 Axes>"
      ]
     },
     "execution_count": 39,
     "metadata": {},
     "output_type": "execute_result"
    }
   ],
   "source": [
    "qc = QuantumCircuit(2)\n",
    "sim = Aer.get_backend('aer_simulator')\n",
    "qc.x(1)\n",
    "qc.h(0)\n",
    "qc.cx(0,1)\n",
    "\n",
    "random_unitary\n",
    "\n",
    "\n",
    "qc.save_statevector()\n",
    "qobj=assemble(qc)\n",
    "qc.draw()"
   ]
  },
  {
   "cell_type": "code",
   "execution_count": 40,
   "id": "5c5adc8e-349d-4e45-88eb-7f0efe133ef0",
   "metadata": {},
   "outputs": [
    {
     "data": {
      "image/png": "[encoded data removed]",
      "text/plain": [
       "<Figure size 504x360 with 1 Axes>"
      ]
     },
     "execution_count": 40,
     "metadata": {},
     "output_type": "execute_result"
    }
   ],
   "source": [
    "res = sim.run(qobj, shots = 1000).result()\n",
    "state = res.get_statevector()\n",
    "count = res.get_counts()\n",
    "plot_histogram(count)\n",
    "\n"
   ]
  },
  {
   "cell_type": "code",
   "execution_count": 42,
   "id": "211e915d-587c-4655-adcb-0a6f1ccbc7c5",
   "metadata": {},
   "outputs": [
    {
     "name": "stdout",
     "output_type": "stream",
     "text": [
      "[0.        +0.j 0.70710678+0.j 0.70710678+0.j 0.        +0.j]\n"
     ]
    }
   ],
   "source": [
    "state = res.get_statevector()\n",
    "print(state)"
   ]
  },
  {
   "cell_type": "code",
   "execution_count": null,
   "id": "f11edc71-9e88-4f6b-8ace-c326aabbc91e",
   "metadata": {},
   "outputs": [],
   "source": []
  }
 ],
 "metadata": {
  "kernelspec": {
   "display_name": "Qiskit v0.33.1 (ipykernel)",
   "language": "python",
   "name": "python3"
  },
  "language_info": {
   "codemirror_mode": {
    "name": "ipython",
    "version": 3
   },
   "file_extension": ".py",
   "mimetype": "text/x-python",
   "name": "python",
   "nbconvert_exporter": "python",
   "pygments_lexer": "ipython3",
   "version": "3.8.10"
  },
  "widgets": {
   "application/vnd.jupyter.widget-state+json": {
    "state": {
     "05c72b5c33ba45f7938f9076c3607f7e": {
      "model_module": "@jupyter-widgets/controls",
      "model_module_version": "1.5.0",
      "model_name": "DescriptionStyleModel",
      "state": {
       "description_width": ""
      }
     },
     "05e33db88b1347208ae5f8d98daa6d86": {
      "model_module": "@jupyter-widgets/base",
      "model_module_version": "1.2.0",
      "model_name": "LayoutModel",
      "state": {
       "width": "190px"
      }
     },
     "0ced6ef0e91a4f9d924aa54546fb206a": {
      "model_module": "@jupyter-widgets/base",
      "model_module_version": "1.2.0",
      "model_name": "LayoutModel",
      "state": {
       "grid_area": "right",
       "padding": "0px 0px 0px 0px",
       "width": "70px"
      }
     },
     "30d74151525747b789a38b01b5cae8c3": {
      "model_module": "@jupyter-widgets/base",
      "model_module_version": "1.2.0",
      "model_name": "LayoutModel",
      "state": {}
     },
     "346cf5848c9a43d599f160d4ea5e74be": {
      "model_module": "@jupyter-widgets/controls",
      "model_module_version": "1.5.0",
      "model_name": "DescriptionStyleModel",
      "state": {
       "description_width": ""
      }
     },
     "3f436b11b1f0454aada3865e2b387e63": {
      "model_module": "@jupyter-widgets/controls",
      "model_module_version": "1.5.0",
      "model_name": "HTMLModel",
      "state": {
       "layout": "IPY_MODEL_56998440157247b387c06dd56d144670",
       "style": "IPY_MODEL_f3a3aba9c9dd4650ac6e3a8446d58503",
       "value": "<p style='font-family: IBM Plex Sans, Arial, Helvetica, sans-serif; font-size: 20px; font-weight: medium;'>Circuit Properties</p>"
      }
     },
     "4a0cd687604c4442987b3f4a92c85489": {
      "model_module": "@jupyter-widgets/controls",
      "model_module_version": "1.5.0",
      "model_name": "ButtonModel",
      "state": {
       "button_style": "primary",
       "description": "Clear",
       "layout": "IPY_MODEL_0ced6ef0e91a4f9d924aa54546fb206a",
       "style": "IPY_MODEL_c8a3121a3f2d4e08acc489350f16544b"
      }
     },
     "56998440157247b387c06dd56d144670": {
      "model_module": "@jupyter-widgets/base",
      "model_module_version": "1.2.0",
      "model_name": "LayoutModel",
      "state": {
       "margin": "0px 0px 10px 0px"
      }
     },
     "593f67c25e9e4fabb2ad966ab3818e4f": {
      "model_module": "@jupyter-widgets/controls",
      "model_module_version": "1.5.0",
      "model_name": "GridBoxModel",
      "state": {
       "children": [
        "IPY_MODEL_4a0cd687604c4442987b3f4a92c85489"
       ],
       "layout": "IPY_MODEL_75853dff81f840ccbbe35070c31382a8"
      }
     },
     "5c4308a538a14de39672566d08e13ea8": {
      "model_module": "@jupyter-widgets/controls",
      "model_module_version": "1.5.0",
      "model_name": "DescriptionStyleModel",
      "state": {
       "description_width": ""
      }
     },
     "5f470cd559f045bb99dfff8300da9f0a": {
      "model_module": "@jupyter-widgets/controls",
      "model_module_version": "1.5.0",
      "model_name": "HTMLModel",
      "state": {
       "layout": "IPY_MODEL_652952426a2447d588eaeaae9b29f69e",
       "style": "IPY_MODEL_346cf5848c9a43d599f160d4ea5e74be",
       "value": "<h5>Backend</h5>"
      }
     },
     "5fd15c9f6a01460fa395303c0f3313c1": {
      "model_module": "@jupyter-widgets/controls",
      "model_module_version": "1.5.0",
      "model_name": "DescriptionStyleModel",
      "state": {
       "description_width": ""
      }
     },
     "652952426a2447d588eaeaae9b29f69e": {
      "model_module": "@jupyter-widgets/base",
      "model_module_version": "1.2.0",
      "model_name": "LayoutModel",
      "state": {
       "width": "145px"
      }
     },
     "75853dff81f840ccbbe35070c31382a8": {
      "model_module": "@jupyter-widgets/base",
      "model_module_version": "1.2.0",
      "model_name": "LayoutModel",
      "state": {
       "grid_template_areas": "\n                                       \". . . . right \"\n                                        ",
       "grid_template_columns": "20% 20% 20% 20% 20%",
       "width": "100%"
      }
     },
     "7f1375d0a468414087a7e3ea8af71b14": {
      "model_module": "@jupyter-widgets/base",
      "model_module_version": "1.2.0",
      "model_name": "LayoutModel",
      "state": {
       "width": "95px"
      }
     },
     "8208037a62b74205bbb942790c1d8e72": {
      "model_module": "@jupyter-widgets/base",
      "model_module_version": "1.2.0",
      "model_name": "LayoutModel",
      "state": {
       "width": "70px"
      }
     },
     "a850c632426e4da6958760cf3dd3a294": {
      "model_module": "@jupyter-widgets/controls",
      "model_module_version": "1.5.0",
      "model_name": "HTMLModel",
      "state": {
       "layout": "IPY_MODEL_30d74151525747b789a38b01b5cae8c3",
       "style": "IPY_MODEL_05c72b5c33ba45f7938f9076c3607f7e",
       "value": "<h5>Message</h5>"
      }
     },
     "a8e30ddf61f748c684a05d02d5341b58": {
      "model_module": "@jupyter-widgets/controls",
      "model_module_version": "1.5.0",
      "model_name": "DescriptionStyleModel",
      "state": {
       "description_width": ""
      }
     },
     "b599da6f267b4d4080f657c88d6d2eed": {
      "model_module": "@jupyter-widgets/controls",
      "model_module_version": "1.5.0",
      "model_name": "HTMLModel",
      "state": {
       "layout": "IPY_MODEL_05e33db88b1347208ae5f8d98daa6d86",
       "style": "IPY_MODEL_a8e30ddf61f748c684a05d02d5341b58",
       "value": "<h5>Job ID</h5>"
      }
     },
     "b999bd927d08448cb89eebf3ebaabbbb": {
      "model_module": "@jupyter-widgets/controls",
      "model_module_version": "1.5.0",
      "model_name": "HTMLModel",
      "state": {
       "layout": "IPY_MODEL_8208037a62b74205bbb942790c1d8e72",
       "style": "IPY_MODEL_5fd15c9f6a01460fa395303c0f3313c1",
       "value": "<h5>Queue</h5>"
      }
     },
     "c6f2801670a44f26bb98395d019bcfde": {
      "model_module": "@jupyter-widgets/base",
      "model_module_version": "1.2.0",
      "model_name": "LayoutModel",
      "state": {
       "margin": "0px 0px 0px 37px",
       "width": "600px"
      }
     },
     "c8a3121a3f2d4e08acc489350f16544b": {
      "model_module": "@jupyter-widgets/controls",
      "model_module_version": "1.5.0",
      "model_name": "ButtonStyleModel",
      "state": {}
     },
     "daf55dccea85414fbeecab8a3587dc44": {
      "model_module": "@jupyter-widgets/controls",
      "model_module_version": "1.5.0",
      "model_name": "HTMLModel",
      "state": {
       "layout": "IPY_MODEL_7f1375d0a468414087a7e3ea8af71b14",
       "style": "IPY_MODEL_5c4308a538a14de39672566d08e13ea8",
       "value": "<h5>Status</h5>"
      }
     },
     "f3a3aba9c9dd4650ac6e3a8446d58503": {
      "model_module": "@jupyter-widgets/controls",
      "model_module_version": "1.5.0",
      "model_name": "DescriptionStyleModel",
      "state": {
       "description_width": ""
      }
     },
     "fe8fffa4cb8a4600b300279c38cb4950": {
      "model_module": "@jupyter-widgets/controls",
      "model_module_version": "1.5.0",
      "model_name": "HBoxModel",
      "state": {
       "children": [
        "IPY_MODEL_b599da6f267b4d4080f657c88d6d2eed",
        "IPY_MODEL_5f470cd559f045bb99dfff8300da9f0a",
        "IPY_MODEL_daf55dccea85414fbeecab8a3587dc44",
        "IPY_MODEL_b999bd927d08448cb89eebf3ebaabbbb",
        "IPY_MODEL_a850c632426e4da6958760cf3dd3a294"
       ],
       "layout": "IPY_MODEL_c6f2801670a44f26bb98395d019bcfde"
      }
     }
    },
    "version_major": 2,
    "version_minor": 0
   }
  }
 },
 "nbformat": 4,
 "nbformat_minor": 5
}
