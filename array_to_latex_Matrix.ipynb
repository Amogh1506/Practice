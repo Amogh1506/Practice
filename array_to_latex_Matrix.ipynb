{
 "cells": [
  {
   "cell_type": "code",
   "execution_count": 21,
   "id": "ac2edf9a-44b5-4a18-bce1-079439a14138",
   "metadata": {},
   "outputs": [
    {
     "name": "stderr",
     "output_type": "stream",
     "text": [
      "ibmqfactory.load_account:WARNING:2022-01-05 21:58:04,226: Credentials are already in use. The existing account in the session will be replaced.\n"
     ]
    }
   ],
   "source": [
    "import numpy as np\n",
    "import math\n",
    "\n",
    "# Importing standard Qiskit libraries\n",
    "from qiskit import QuantumCircuit, transpile, Aer, IBMQ, execute\n",
    "from qiskit.tools.jupyter import *\n",
    "from qiskit.visualization import *\n",
    "from ibm_quantum_widgets import *\n",
    "from qiskit.providers.aer import QasmSimulator\n",
    "\n",
    "# Loading your IBM Quantum account(s)\n",
    "provider = IBMQ.load_account()"
   ]
  },
  {
   "cell_type": "code",
   "execution_count": 22,
   "id": "9b777bed-7160-4264-afa1-4e3d72c764b3",
   "metadata": {},
   "outputs": [
    {
     "data": {
      "text/latex": [
       "$$\n",
       "\n",
       "\\begin{bmatrix}\n",
       "1 & 0 & 0 & 0  \\\\\n",
       " 0 & 1 & 0 & 0  \\\\\n",
       " 0 & 0 & 1 & 0  \\\\\n",
       " 0 & 0 & 0 & 1  \\\\\n",
       " \\end{bmatrix}\n",
       "$$"
      ],
      "text/plain": [
       "<IPython.core.display.Latex object>"
      ]
     },
     "execution_count": 22,
     "metadata": {},
     "output_type": "execute_result"
    }
   ],
   "source": [
    "qc = QuantumCircuit(2)\n",
    "qc.cz(0,1)\n",
    "qc.cz(1,0)\n",
    "\n",
    "\n",
    "sim = Aer.get_backend('unitary_simulator')\n",
    "sv = execute(qc,sim).result().get_unitary()\n",
    "array_to_latex(sv)"
   ]
  },
  {
   "cell_type": "code",
   "execution_count": 20,
   "id": "0c25ec5c-759e-49f5-be6e-54dc8c4d5fcd",
   "metadata": {},
   "outputs": [
    {
     "data": {
      "text/latex": [
       "$$\n",
       "\n",
       "\\begin{bmatrix}\n",
       "1 & 0 & 0 & 0  \\\\\n",
       " 0 & 1 & 0 & 0  \\\\\n",
       " 0 & 0 & 1 & 0  \\\\\n",
       " 0 & 0 & 0 & 1  \\\\\n",
       " \\end{bmatrix}\n",
       "$$"
      ],
      "text/plain": [
       "<IPython.core.display.Latex object>"
      ]
     },
     "execution_count": 20,
     "metadata": {},
     "output_type": "execute_result"
    }
   ],
   "source": [
    "\n",
    "\n",
    "qc = QuantumCircuit(2)\n",
    "\n",
    "qc.crz(math.pi,0,1)\n",
    "qc.crz(math.pi*-1,0,1)\n",
    "\n",
    "\n",
    "sim = Aer.get_backend('unitary_simulator')\n",
    "sv = execute(qc,sim).result().get_unitary()\n",
    "array_to_latex(sv)\n",
    "    \n",
    "    "
   ]
  },
  {
   "cell_type": "code",
   "execution_count": 24,
   "id": "979dc9cf-deeb-42d1-9535-58c8fff13033",
   "metadata": {},
   "outputs": [
    {
     "data": {
      "text/latex": [
       "$$\n",
       "\n",
       "\\begin{bmatrix}\n",
       "1 & 0 & 0 & 0  \\\\\n",
       " 0 & 1 & 0 & 0  \\\\\n",
       " 0 & 0 & 1 & 0  \\\\\n",
       " 0 & 0 & 0 & 1  \\\\\n",
       " \\end{bmatrix}\n",
       "$$"
      ],
      "text/plain": [
       "<IPython.core.display.Latex object>"
      ]
     },
     "execution_count": 24,
     "metadata": {},
     "output_type": "execute_result"
    }
   ],
   "source": [
    "\n",
    "\n",
    "qc = QuantumCircuit(2)\n",
    "\n",
    "qc.cz(0,1)\n",
    "qc.cp(math.pi,0,1)\n",
    "\n",
    "sim = Aer.get_backend('unitary_simulator')\n",
    "sv = execute(qc,sim).result().get_unitary()\n",
    "array_to_latex(sv)\n",
    "\n",
    "\n",
    "\n"
   ]
  },
  {
   "cell_type": "code",
   "execution_count": 25,
   "id": "bb2e9f99-88ab-40d4-89c3-6b520a4d534e",
   "metadata": {},
   "outputs": [
    {
     "data": {
      "text/latex": [
       "$$\n",
       "\n",
       "\\begin{bmatrix}\n",
       "1 & 0 & 0 & 0  \\\\\n",
       " 0 & -i & 0 & 0  \\\\\n",
       " 0 & 0 & 1 & 0  \\\\\n",
       " 0 & 0 & 0 & -i  \\\\\n",
       " \\end{bmatrix}\n",
       "$$"
      ],
      "text/plain": [
       "<IPython.core.display.Latex object>"
      ]
     },
     "execution_count": 25,
     "metadata": {},
     "output_type": "execute_result"
    }
   ],
   "source": [
    "qc = QuantumCircuit(2)\n",
    "\n",
    "qc.crz(math.pi,0,1)\n",
    "qc.cp(math.pi,0,1)\n",
    "\n",
    "sim = Aer.get_backend('unitary_simulator')\n",
    "sv = execute(qc,sim).result().get_unitary()\n",
    "array_to_latex(sv)\n",
    "\n",
    "\n",
    "\n"
   ]
  },
  {
   "cell_type": "code",
   "execution_count": null,
   "id": "7fb8640b-bb6c-4a42-b903-de32f3be0d38",
   "metadata": {},
   "outputs": [],
   "source": []
  }
 ],
 "metadata": {
  "kernelspec": {
   "display_name": "Qiskit v0.34.0 (ipykernel)",
   "language": "python",
   "name": "python3"
  },
  "language_info": {
   "codemirror_mode": {
    "name": "ipython",
    "version": 3
   },
   "file_extension": ".py",
   "mimetype": "text/x-python",
   "name": "python",
   "nbconvert_exporter": "python",
   "pygments_lexer": "ipython3",
   "version": "3.8.10"
  },
  "widgets": {
   "application/vnd.jupyter.widget-state+json": {
    "state": {
     "18042f70ae9848379a91f1ae7faa38af": {
      "model_module": "@jupyter-widgets/controls",
      "model_module_version": "1.5.0",
      "model_name": "DescriptionStyleModel",
      "state": {
       "description_width": ""
      }
     },
     "29821aec75294f78a47a5e0bf3cbea98": {
      "model_module": "@jupyter-widgets/base",
      "model_module_version": "1.2.0",
      "model_name": "LayoutModel",
      "state": {
       "width": "190px"
      }
     },
     "2be15e9464cc4b7e8f3ce2206c8d279d": {
      "model_module": "@jupyter-widgets/base",
      "model_module_version": "1.2.0",
      "model_name": "LayoutModel",
      "state": {
       "grid_template_areas": "\n                                       \". . . . right \"\n                                        ",
       "grid_template_columns": "20% 20% 20% 20% 20%",
       "width": "100%"
      }
     },
     "44e4f78e59d04eba9efe8fee2310e8f7": {
      "model_module": "@jupyter-widgets/base",
      "model_module_version": "1.2.0",
      "model_name": "LayoutModel",
      "state": {
       "width": "145px"
      }
     },
     "45962de677cd43b886b20cc195f2287e": {
      "model_module": "@jupyter-widgets/controls",
      "model_module_version": "1.5.0",
      "model_name": "DescriptionStyleModel",
      "state": {
       "description_width": ""
      }
     },
     "4bf1957f98194a5bb4e952a8d8a64aba": {
      "model_module": "@jupyter-widgets/base",
      "model_module_version": "1.2.0",
      "model_name": "LayoutModel",
      "state": {
       "width": "95px"
      }
     },
     "549fb75197ce4d4d9e492795fa905e90": {
      "model_module": "@jupyter-widgets/controls",
      "model_module_version": "1.5.0",
      "model_name": "ButtonModel",
      "state": {
       "button_style": "primary",
       "description": "Clear",
       "layout": "IPY_MODEL_bc40cb6c57b9487eb288b6879dbe0602",
       "style": "IPY_MODEL_c201d7fa01d343aeba8a03f5102ab0c5"
      }
     },
     "68e7aa9192464d01a81bdbd56a891069": {
      "model_module": "@jupyter-widgets/base",
      "model_module_version": "1.2.0",
      "model_name": "LayoutModel",
      "state": {
       "margin": "0px 0px 10px 0px"
      }
     },
     "6a000f51e4754b49928c7da37d67f777": {
      "model_module": "@jupyter-widgets/controls",
      "model_module_version": "1.5.0",
      "model_name": "DescriptionStyleModel",
      "state": {
       "description_width": ""
      }
     },
     "7157e382100f4d9e83ee6c12f7ae8101": {
      "model_module": "@jupyter-widgets/controls",
      "model_module_version": "1.5.0",
      "model_name": "HTMLModel",
      "state": {
       "layout": "IPY_MODEL_29821aec75294f78a47a5e0bf3cbea98",
       "style": "IPY_MODEL_6a000f51e4754b49928c7da37d67f777",
       "value": "<h5>Job ID</h5>"
      }
     },
     "87fbaa325ae247c19b83a5d7a25e30ce": {
      "model_module": "@jupyter-widgets/base",
      "model_module_version": "1.2.0",
      "model_name": "LayoutModel",
      "state": {
       "margin": "0px 0px 0px 37px",
       "width": "600px"
      }
     },
     "98e1dcd1e0b843d58a2c814eefcb3fac": {
      "model_module": "@jupyter-widgets/controls",
      "model_module_version": "1.5.0",
      "model_name": "GridBoxModel",
      "state": {
       "children": [
        "IPY_MODEL_549fb75197ce4d4d9e492795fa905e90"
       ],
       "layout": "IPY_MODEL_2be15e9464cc4b7e8f3ce2206c8d279d"
      }
     },
     "a8af410a05e04f1d9ed3adbe2fb4b877": {
      "model_module": "@jupyter-widgets/controls",
      "model_module_version": "1.5.0",
      "model_name": "HTMLModel",
      "state": {
       "layout": "IPY_MODEL_68e7aa9192464d01a81bdbd56a891069",
       "style": "IPY_MODEL_45962de677cd43b886b20cc195f2287e",
       "value": "<p style='font-family: IBM Plex Sans, Arial, Helvetica, sans-serif; font-size: 20px; font-weight: medium;'>Circuit Properties</p>"
      }
     },
     "b08529caf04349b191ae5fc8c257c13e": {
      "model_module": "@jupyter-widgets/controls",
      "model_module_version": "1.5.0",
      "model_name": "HTMLModel",
      "state": {
       "layout": "IPY_MODEL_f1b9848bc3534107a166d41713e30443",
       "style": "IPY_MODEL_d3cbf63f764c45f99e9c23a35f9c7f5f",
       "value": "<h5>Queue</h5>"
      }
     },
     "b2535d50815e491fa4dd31aeac825c36": {
      "model_module": "@jupyter-widgets/controls",
      "model_module_version": "1.5.0",
      "model_name": "HBoxModel",
      "state": {
       "children": [
        "IPY_MODEL_7157e382100f4d9e83ee6c12f7ae8101",
        "IPY_MODEL_b5c223358951410185ba7d864652ceef",
        "IPY_MODEL_eb8b63a04b73446bb13e9a046e3fac41",
        "IPY_MODEL_b08529caf04349b191ae5fc8c257c13e",
        "IPY_MODEL_c88a3c3ca66b4d7784d8f849fa0cfb42"
       ],
       "layout": "IPY_MODEL_87fbaa325ae247c19b83a5d7a25e30ce"
      }
     },
     "b5c223358951410185ba7d864652ceef": {
      "model_module": "@jupyter-widgets/controls",
      "model_module_version": "1.5.0",
      "model_name": "HTMLModel",
      "state": {
       "layout": "IPY_MODEL_44e4f78e59d04eba9efe8fee2310e8f7",
       "style": "IPY_MODEL_e4462b962274446183e4527c55a8ad2e",
       "value": "<h5>Backend</h5>"
      }
     },
     "bc40cb6c57b9487eb288b6879dbe0602": {
      "model_module": "@jupyter-widgets/base",
      "model_module_version": "1.2.0",
      "model_name": "LayoutModel",
      "state": {
       "grid_area": "right",
       "padding": "0px 0px 0px 0px",
       "width": "70px"
      }
     },
     "c201d7fa01d343aeba8a03f5102ab0c5": {
      "model_module": "@jupyter-widgets/controls",
      "model_module_version": "1.5.0",
      "model_name": "ButtonStyleModel",
      "state": {}
     },
     "c88a3c3ca66b4d7784d8f849fa0cfb42": {
      "model_module": "@jupyter-widgets/controls",
      "model_module_version": "1.5.0",
      "model_name": "HTMLModel",
      "state": {
       "layout": "IPY_MODEL_ece22bbe529b4e269ae6e1b3a2ae2a90",
       "style": "IPY_MODEL_18042f70ae9848379a91f1ae7faa38af",
       "value": "<h5>Message</h5>"
      }
     },
     "d3cbf63f764c45f99e9c23a35f9c7f5f": {
      "model_module": "@jupyter-widgets/controls",
      "model_module_version": "1.5.0",
      "model_name": "DescriptionStyleModel",
      "state": {
       "description_width": ""
      }
     },
     "e4462b962274446183e4527c55a8ad2e": {
      "model_module": "@jupyter-widgets/controls",
      "model_module_version": "1.5.0",
      "model_name": "DescriptionStyleModel",
      "state": {
       "description_width": ""
      }
     },
     "eb8b63a04b73446bb13e9a046e3fac41": {
      "model_module": "@jupyter-widgets/controls",
      "model_module_version": "1.5.0",
      "model_name": "HTMLModel",
      "state": {
       "layout": "IPY_MODEL_4bf1957f98194a5bb4e952a8d8a64aba",
       "style": "IPY_MODEL_f4c581ca98a94512b659289db02c5617",
       "value": "<h5>Status</h5>"
      }
     },
     "ece22bbe529b4e269ae6e1b3a2ae2a90": {
      "model_module": "@jupyter-widgets/base",
      "model_module_version": "1.2.0",
      "model_name": "LayoutModel",
      "state": {}
     },
     "f1b9848bc3534107a166d41713e30443": {
      "model_module": "@jupyter-widgets/base",
      "model_module_version": "1.2.0",
      "model_name": "LayoutModel",
      "state": {
       "width": "70px"
      }
     },
     "f4c581ca98a94512b659289db02c5617": {
      "model_module": "@jupyter-widgets/controls",
      "model_module_version": "1.5.0",
      "model_name": "DescriptionStyleModel",
      "state": {
       "description_width": ""
      }
     }
    },
    "version_major": 2,
    "version_minor": 0
   }
  }
 },
 "nbformat": 4,
 "nbformat_minor": 5
}
