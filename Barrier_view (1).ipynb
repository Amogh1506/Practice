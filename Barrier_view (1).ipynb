{
 "cells": [
  {
   "cell_type": "code",
   "execution_count": 4,
   "id": "f667ddc8-1fba-4be2-b77a-f3d379cf5f88",
   "metadata": {},
   "outputs": [
    {
     "name": "stderr",
     "output_type": "stream",
     "text": [
      "ibmqfactory.load_account:WARNING:2022-07-01 21:49:16,902: Credentials are already in use. The existing account in the session will be replaced.\n"
     ]
    }
   ],
   "source": [
    "import numpy as np\n",
    "import qiskit\n",
    "\n",
    "# Importing standard Qiskit libraries\n",
    "from qiskit import QuantumCircuit,QuantumRegister, transpile, Aer, IBMQ\n",
    "from qiskit.tools.jupyter import *\n",
    "from qiskit.visualization import *\n",
    "from ibm_quantum_widgets import *\n",
    "from qiskit.providers.aer import QasmSimulator\n",
    "\n",
    "# Loading your IBM Quantum account(s)\n",
    "provider = IBMQ.load_account()"
   ]
  },
  {
   "cell_type": "code",
   "execution_count": 5,
   "id": "3b210518-3149-4896-9bbd-eb3bbab47eff",
   "metadata": {},
   "outputs": [
    {
     "data": {
      "image/png": "[encoded data removed]",
      "text/plain": [
       "<Figure size 280.323x204.68 with 1 Axes>"
      ]
     },
     "execution_count": 5,
     "metadata": {},
     "output_type": "execute_result"
    }
   ],
   "source": [
    "inp_reg = QuantumRegister(2)\n",
    "ancilla = QuantumRegister(1)\n",
    "qc = QuantumCircuit(inp_reg,ancilla)\n",
    "\n",
    "qc.h(inp_reg)\n",
    "\n",
    "qc.barrier(0,1,2)\n",
    "qc.x(ancilla)\n",
    "qc.draw()\n",
    "\n"
   ]
  },
  {
   "cell_type": "code",
   "execution_count": null,
   "id": "4bf0fdc4-4115-4d97-b126-fc0ff442cb28",
   "metadata": {},
   "outputs": [],
   "source": []
  },
  {
   "cell_type": "code",
   "execution_count": null,
   "id": "46c312a7-f836-48a6-90a3-553ce3ed2c9e",
   "metadata": {},
   "outputs": [],
   "source": []
  },
  {
   "cell_type": "code",
   "execution_count": null,
   "id": "09372a0e-83c4-400d-9b99-1881fec03037",
   "metadata": {},
   "outputs": [],
   "source": []
  }
 ],
 "metadata": {
  "kernelspec": {
   "display_name": "Python 3 (ipykernel)",
   "language": "python",
   "name": "python3"
  },
  "language_info": {
   "codemirror_mode": {
    "name": "ipython",
    "version": 3
   },
   "file_extension": ".py",
   "mimetype": "text/x-python",
   "name": "python",
   "nbconvert_exporter": "python",
   "pygments_lexer": "ipython3",
   "version": "3.8.13"
  },
  "widgets": {
   "application/vnd.jupyter.widget-state+json": {
    "state": {
     "0d96f77bb39a49589db1a4a590cf9c67": {
      "model_module": "@jupyter-widgets/controls",
      "model_module_version": "1.5.0",
      "model_name": "DescriptionStyleModel",
      "state": {
       "description_width": ""
      }
     },
     "102b56e1f49847efb03b3f71c27250c2": {
      "model_module": "@jupyter-widgets/base",
      "model_module_version": "1.2.0",
      "model_name": "LayoutModel",
      "state": {
       "width": "145px"
      }
     },
     "1e91049e0d714d9887e23f5a78206b66": {
      "model_module": "@jupyter-widgets/controls",
      "model_module_version": "1.5.0",
      "model_name": "DescriptionStyleModel",
      "state": {
       "description_width": ""
      }
     },
     "221147265d16496db81e0cda06a3b6b4": {
      "model_module": "@jupyter-widgets/controls",
      "model_module_version": "1.5.0",
      "model_name": "HTMLModel",
      "state": {
       "layout": "IPY_MODEL_a4b39ad4ae714b9a97859ab97d6c69cf",
       "style": "IPY_MODEL_4192175523764569a82f910ea2855f83",
       "value": "<p style='font-family: IBM Plex Sans, Arial, Helvetica, sans-serif; font-size: 20px; font-weight: medium;'>Circuit Properties</p>"
      }
     },
     "22ef25b2b8064a0fa35c2981bf18d953": {
      "model_module": "@jupyter-widgets/base",
      "model_module_version": "1.2.0",
      "model_name": "LayoutModel",
      "state": {
       "grid_template_areas": "\n                                       \". . . . right \"\n                                        ",
       "grid_template_columns": "20% 20% 20% 20% 20%",
       "width": "100%"
      }
     },
     "303f8a8d74564e88b541efcc8f74c287": {
      "model_module": "@jupyter-widgets/controls",
      "model_module_version": "1.5.0",
      "model_name": "HBoxModel",
      "state": {
       "children": [
        "IPY_MODEL_86ca27faafb24aa082b02a6b053d4f25",
        "IPY_MODEL_f5c166793369457396cdcdf90c6b4e39",
        "IPY_MODEL_dfa957f7f6434877bd527260b1c56003",
        "IPY_MODEL_764a057689514929a32be1f856467002",
        "IPY_MODEL_63031ecd358d4db9a7fe07632fbf33b9"
       ],
       "layout": "IPY_MODEL_ce879c98954b42c996642a01626ea011"
      }
     },
     "4192175523764569a82f910ea2855f83": {
      "model_module": "@jupyter-widgets/controls",
      "model_module_version": "1.5.0",
      "model_name": "DescriptionStyleModel",
      "state": {
       "description_width": ""
      }
     },
     "4b82b2347f2f409cafdcf3320a57f418": {
      "model_module": "@jupyter-widgets/base",
      "model_module_version": "1.2.0",
      "model_name": "LayoutModel",
      "state": {
       "width": "70px"
      }
     },
     "5667d73b29dd4099b4ab2599da4a776b": {
      "model_module": "@jupyter-widgets/controls",
      "model_module_version": "1.5.0",
      "model_name": "ButtonStyleModel",
      "state": {}
     },
     "568a369808ed40acb2b196644fab9caa": {
      "model_module": "@jupyter-widgets/base",
      "model_module_version": "1.2.0",
      "model_name": "LayoutModel",
      "state": {
       "width": "95px"
      }
     },
     "5f302441dd224300a4cec4d1852c34be": {
      "model_module": "@jupyter-widgets/controls",
      "model_module_version": "1.5.0",
      "model_name": "ButtonModel",
      "state": {
       "button_style": "primary",
       "description": "Clear",
       "layout": "IPY_MODEL_dfe079eba9004a859d7d9e763f618d4c",
       "style": "IPY_MODEL_5667d73b29dd4099b4ab2599da4a776b"
      }
     },
     "63031ecd358d4db9a7fe07632fbf33b9": {
      "model_module": "@jupyter-widgets/controls",
      "model_module_version": "1.5.0",
      "model_name": "HTMLModel",
      "state": {
       "layout": "IPY_MODEL_bb43ff2497a743d185348f1e9487bf63",
       "style": "IPY_MODEL_a30911dfd5334eaa92d81dc87cfbdda7",
       "value": "<h5>Message</h5>"
      }
     },
     "6ce3250bf0c04d4388aa31862f43f4d5": {
      "model_module": "@jupyter-widgets/controls",
      "model_module_version": "1.5.0",
      "model_name": "GridBoxModel",
      "state": {
       "children": [
        "IPY_MODEL_5f302441dd224300a4cec4d1852c34be"
       ],
       "layout": "IPY_MODEL_22ef25b2b8064a0fa35c2981bf18d953"
      }
     },
     "764a057689514929a32be1f856467002": {
      "model_module": "@jupyter-widgets/controls",
      "model_module_version": "1.5.0",
      "model_name": "HTMLModel",
      "state": {
       "layout": "IPY_MODEL_4b82b2347f2f409cafdcf3320a57f418",
       "style": "IPY_MODEL_dcdb2de94cbb4c2aab68a84f5983ac14",
       "value": "<h5>Queue</h5>"
      }
     },
     "86ca27faafb24aa082b02a6b053d4f25": {
      "model_module": "@jupyter-widgets/controls",
      "model_module_version": "1.5.0",
      "model_name": "HTMLModel",
      "state": {
       "layout": "IPY_MODEL_9bdbccdcfa25442aa2cb137f04d04fc1",
       "style": "IPY_MODEL_0d96f77bb39a49589db1a4a590cf9c67",
       "value": "<h5>Job ID</h5>"
      }
     },
     "990601f6f1ed4dd3899106eef8627033": {
      "model_module": "@jupyter-widgets/controls",
      "model_module_version": "1.5.0",
      "model_name": "DescriptionStyleModel",
      "state": {
       "description_width": ""
      }
     },
     "9bdbccdcfa25442aa2cb137f04d04fc1": {
      "model_module": "@jupyter-widgets/base",
      "model_module_version": "1.2.0",
      "model_name": "LayoutModel",
      "state": {
       "width": "190px"
      }
     },
     "a30911dfd5334eaa92d81dc87cfbdda7": {
      "model_module": "@jupyter-widgets/controls",
      "model_module_version": "1.5.0",
      "model_name": "DescriptionStyleModel",
      "state": {
       "description_width": ""
      }
     },
     "a4b39ad4ae714b9a97859ab97d6c69cf": {
      "model_module": "@jupyter-widgets/base",
      "model_module_version": "1.2.0",
      "model_name": "LayoutModel",
      "state": {
       "margin": "0px 0px 10px 0px"
      }
     },
     "bb43ff2497a743d185348f1e9487bf63": {
      "model_module": "@jupyter-widgets/base",
      "model_module_version": "1.2.0",
      "model_name": "LayoutModel",
      "state": {}
     },
     "ce879c98954b42c996642a01626ea011": {
      "model_module": "@jupyter-widgets/base",
      "model_module_version": "1.2.0",
      "model_name": "LayoutModel",
      "state": {
       "margin": "0px 0px 0px 37px",
       "width": "600px"
      }
     },
     "dcdb2de94cbb4c2aab68a84f5983ac14": {
      "model_module": "@jupyter-widgets/controls",
      "model_module_version": "1.5.0",
      "model_name": "DescriptionStyleModel",
      "state": {
       "description_width": ""
      }
     },
     "dfa957f7f6434877bd527260b1c56003": {
      "model_module": "@jupyter-widgets/controls",
      "model_module_version": "1.5.0",
      "model_name": "HTMLModel",
      "state": {
       "layout": "IPY_MODEL_568a369808ed40acb2b196644fab9caa",
       "style": "IPY_MODEL_990601f6f1ed4dd3899106eef8627033",
       "value": "<h5>Status</h5>"
      }
     },
     "dfe079eba9004a859d7d9e763f618d4c": {
      "model_module": "@jupyter-widgets/base",
      "model_module_version": "1.2.0",
      "model_name": "LayoutModel",
      "state": {
       "grid_area": "right",
       "padding": "0px 0px 0px 0px",
       "width": "70px"
      }
     },
     "f5c166793369457396cdcdf90c6b4e39": {
      "model_module": "@jupyter-widgets/controls",
      "model_module_version": "1.5.0",
      "model_name": "HTMLModel",
      "state": {
       "layout": "IPY_MODEL_102b56e1f49847efb03b3f71c27250c2",
       "style": "IPY_MODEL_1e91049e0d714d9887e23f5a78206b66",
       "value": "<h5>Backend</h5>"
      }
     }
    },
    "version_major": 2,
    "version_minor": 0
   }
  }
 },
 "nbformat": 4,
 "nbformat_minor": 5
}
